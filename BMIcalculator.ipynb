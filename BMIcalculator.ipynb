{
 "cells": [
  {
   "cell_type": "markdown",
   "metadata": {},
   "source": [
    "Underweight=\\<18.5 Normal Weight=18.5-24.9 OverWeight=25-29.9\n",
    "Obesity=BMI of 30 or greater\n",
    "\n",
    "\\#function for calculate BMI def calculator_bmi(kg,m): print(“Enter your\n",
    "weight”,kg) \\#Get the weight from user  \n",
    "print(“Enter your height in meters ”,m) \\#Get the height from user\n",
    "bmi=kg/(m\\*m) \\#Formul for Calculate BMI bmi=round(bmi,1) \\#Round off\n",
    "the result then it easy to read print(“Calucated value of BMI is”,bmi)\n",
    "if bmi\\<18.5: \\#if-elif condition for compare the BMI values with given\n",
    "Categories print(\" Need to increase your weight, Underweight“)\n",
    "elif(bmi\\>18.5) and (bmi\\<24.9): print(” Congrats you are, Normal\n",
    "weight“) elif(bmi\\>25) and (bmi\\<29.9): print(” Sorry! your over\n",
    "weight“) elif(bmi\\>30): print(”Immediately need to reduce weight atleast\n",
    "for your health,Obesity“) else: print(”Something went wrong try again\")\n",
    "\n",
    "calculator_bmi(54,2)\n",
    "\n",
    "calculator_bmi(23,1)\n",
    "\n",
    "calculator_bmi(109,2)\n",
    "\n",
    "calculator_bmi(97,1)"
   ]
  }
 ],
 "nbformat": 4,
 "nbformat_minor": 5,
 "metadata": {}
}
