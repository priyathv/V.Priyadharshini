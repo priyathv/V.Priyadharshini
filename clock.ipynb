{
 "cells": [
  {
   "cell_type": "markdown",
   "metadata": {},
   "source": [
    "import tkinter as tk from tkinter import \\* from time import strftime\n",
    "from PIL import Image, ImageTk\n",
    "\n",
    "window_main=tk.Tk() window_main.title(“Clock Widget”)\n",
    "window_main.geometry(‘1920x1800’)\n",
    "\n",
    "\\#Image\n",
    "img=ImageTk.PhotoImage(Image.open(“C:\\\\Users\\\\Lenovo\\\\OneDrive\\\\Pictures\\\\love.jpg”))\n",
    "l=Label(image=img) l.pack()\n",
    "\n",
    "def time(): string=strftime(‘%H:%M:%S %p’) label.config(text=string)\n",
    "label.after(1000,time)\n",
    "\n",
    "label=Label(window_main,font=(“ds-digital”,14,“bold”),background=“black”,height=2,borderwidth=1,relief=“solid”,foreground=“white”)\n",
    "label.place(x=1200,y=110) time()\n",
    "\n",
    "window_main.mainloop()"
   ]
  }
 ],
 "nbformat": 4,
 "nbformat_minor": 5,
 "metadata": {}
}
